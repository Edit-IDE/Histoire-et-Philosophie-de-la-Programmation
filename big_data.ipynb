{
 "cells": [
  {
   "cell_type": "markdown",
   "metadata": {},
   "source": [
    "# Statistiques\n",
    "\n",
    "Ce notebook va vous présenter différantes statistiques sur les mot contenus dans mon mémoire."
   ]
  },
  {
   "cell_type": "code",
   "execution_count": 2,
   "metadata": {},
   "outputs": [
    {
     "ename": "FileNotFoundError",
     "evalue": "[Errno 2] No such file or directory: 'EvolutionApprentissageInformatique/EvolutionApprentissageInformatique.md'",
     "output_type": "error",
     "traceback": [
      "\u001b[1;31m---------------------------------------------------------------------------\u001b[0m",
      "\u001b[1;31mFileNotFoundError\u001b[0m                         Traceback (most recent call last)",
      "Cell \u001b[1;32mIn[2], line 6\u001b[0m\n\u001b[0;32m      3\u001b[0m \u001b[38;5;28;01mimport\u001b[39;00m \u001b[38;5;21;01mio\u001b[39;00m;\n\u001b[0;32m      4\u001b[0m \u001b[38;5;28;01mimport\u001b[39;00m \u001b[38;5;21;01mmatplotlib\u001b[39;00m\u001b[38;5;21;01m.\u001b[39;00m\u001b[38;5;21;01mpyplot\u001b[39;00m \u001b[38;5;28;01mas\u001b[39;00m \u001b[38;5;21;01mplt\u001b[39;00m;\n\u001b[1;32m----> 6\u001b[0m f \u001b[38;5;241m=\u001b[39m \u001b[43mio\u001b[49m\u001b[38;5;241;43m.\u001b[39;49m\u001b[43mopen\u001b[49m\u001b[43m(\u001b[49m\u001b[38;5;124;43m\"\u001b[39;49m\u001b[38;5;124;43mEvolutionApprentissageInformatique/EvolutionApprentissageInformatique.md\u001b[39;49m\u001b[38;5;124;43m\"\u001b[39;49m\u001b[43m,\u001b[49m\u001b[43m \u001b[49m\u001b[43mmode\u001b[49m\u001b[38;5;241;43m=\u001b[39;49m\u001b[38;5;124;43m\"\u001b[39;49m\u001b[38;5;124;43mr\u001b[39;49m\u001b[38;5;124;43m\"\u001b[39;49m\u001b[43m,\u001b[49m\u001b[43m \u001b[49m\u001b[43mencoding\u001b[49m\u001b[38;5;241;43m=\u001b[39;49m\u001b[38;5;124;43m\"\u001b[39;49m\u001b[38;5;124;43mutf-8\u001b[39;49m\u001b[38;5;124;43m\"\u001b[39;49m\u001b[43m)\u001b[49m\n\u001b[0;32m      7\u001b[0m initialText \u001b[38;5;241m=\u001b[39m f\u001b[38;5;241m.\u001b[39mread()\n\u001b[0;32m      8\u001b[0m text \u001b[38;5;241m=\u001b[39m initialText;\n",
      "\u001b[1;31mFileNotFoundError\u001b[0m: [Errno 2] No such file or directory: 'EvolutionApprentissageInformatique/EvolutionApprentissageInformatique.md'"
     ]
    }
   ],
   "source": [
    "import pandas as pan;\n",
    "import numpy as np;\n",
    "import io;\n",
    "import matplotlib.pyplot as plt;\n",
    "\n",
    "f = io.open(\"OriginesEvolutionInformatique/OriginesEvolutionInformatique.md\", mode=\"r\", encoding=\"utf-8\")\n",
    "initialText = f.read()\n",
    "text = initialText;\n",
    "formattedText = initialText;\n",
    "\n",
    "def removeCharactersInText(chars, txt):\n",
    "    for char in chars:\n",
    "        txt = txt.replace(char, \"\")\n",
    "    return txt\n",
    "\n",
    "charactersToRemove = [\"#\", \"*\", \",\", \".\"]\n",
    "formattedText = removeCharactersInText(charactersToRemove, formattedText);\n",
    "text = removeCharactersInText(charactersToRemove, text);\n",
    "\n",
    "def replaceCharactersInTextBySpace(charactersToReplaceBySpace, txt):\n",
    "    for char in charactersToReplaceBySpace:\n",
    "        txt = txt.replace(char, \" \")\n",
    "\n",
    "    return txt;\n",
    "\n",
    "charactersToReplaceBySpace = [\"'\", \"'\", \"’\"]\n",
    "formattedText = replaceCharactersInTextBySpace(charactersToReplaceBySpace, formattedText);\n",
    "\n",
    "\n",
    "def removeEmptyStrings(item):\n",
    "    return item != \"\"\n",
    "\n",
    "def displaySerie(serie, figsize=(20, 20), type = \"\"): \n",
    "    print(len(serie.index))\n",
    "    plt.figure(figsize=figsize)\n",
    "    plt.xticks(rotation=45, horizontalalignment='right')\n",
    "    if type == \"hist\":\n",
    "        serie.plot.hist()\n",
    "    elif type == \"bar\":\n",
    "        serie.plot.bar()\n",
    "    elif type == \"barh\":\n",
    "        serie.plot.barh()\n",
    "        plt.gca().invert_yaxis()\n",
    "    else:\n",
    "        plt.plot(serie.index, serie.values)\n",
    "    plt.show()\n",
    "\n",
    "def splitTextToWords(lines):\n",
    "    return pan.Series(\n",
    "        list(\n",
    "            filter(removeEmptyStrings, \" \".join(lines).split(\" \"))\n",
    "        )\n",
    "    )\n",
    "\n",
    "lines = text.split(\"\\n\")\n",
    "formattedLines = formattedText.split(\"\\n\")\n",
    "wordList = splitTextToWords(lines);\n",
    "formattedWordList = splitTextToWords(formattedLines);\n",
    "\n",
    "values_count = formattedWordList.value_counts();\n",
    "\n",
    "values_more_than_5_letters = values_count[values_count.index.str.len() > 5].loc[lambda x : x > 30]\n",
    "\n",
    "values_count_over_70 = values_count.loc[lambda x : x > 70]\n",
    "values_count_35_70 = values_count.loc[lambda x : (x > 35) & (x <= 70)]\n",
    "values_count_17_34 = values_count.loc[lambda x : (x > 17) & (x <= 35)]\n",
    "values_count_3_16 = values_count.loc[lambda x : (x > 3) & (x <= 16)]"
   ]
  },
  {
   "cell_type": "code",
   "execution_count": null,
   "metadata": {},
   "outputs": [],
   "source": [
    "print(f'Nombre de mots : {len(wordList)}');"
   ]
  },
  {
   "cell_type": "code",
   "execution_count": null,
   "metadata": {},
   "outputs": [],
   "source": [
    "displaySerie(values_more_than_5_letters, (20, 5))\n",
    "# displaySerie(values_count_over_70)\n",
    "# displaySerie(values_count_35_70)\n",
    "# displaySerie(values_count_17_34)\n",
    "# displaySerie(values_count_3_16)"
   ]
  },
  {
   "cell_type": "markdown",
   "metadata": {},
   "source": [
    "## Mots par chapitre"
   ]
  },
  {
   "cell_type": "code",
   "execution_count": null,
   "metadata": {},
   "outputs": [],
   "source": [
    "if \"#\" in charactersToRemove:\n",
    "    charactersToRemove.remove(\"#\")\n",
    "\n",
    "formattedText = initialText\n",
    "\n",
    "formattedText = removeCharactersInText(charactersToRemove, formattedText)\n",
    "formattedLines = formattedText.split(\"\\n\")\n",
    "\n",
    "level = 0\n",
    "chapters = { }\n",
    "currentPath = \"\"\n",
    "\n",
    "lvl2Title = \"## \"\n",
    "\n",
    "omitList = [\n",
    "    \"## Bienvenue\",\n",
    "    \"## Comment repenser la gestion de l'information pour moderniser l'expérience développeur ?\",\n",
    "    \"## Table des illustrations\",\n",
    "    \"## Annexes\"\n",
    "]\n",
    "\n",
    "for line in formattedLines:\n",
    "    if line.startswith(lvl2Title) and line not in omitList:\n",
    "        currentPath = line.replace(lvl2Title, \"\")[:30];\n",
    "        chapters[currentPath] = [];\n",
    "    elif currentPath:\n",
    "        chapters[currentPath].append(line);\n",
    "        \n",
    "    \n",
    "\n",
    "for chapter in chapters.keys():\n",
    "    wordList = splitTextToWords(chapters[chapter])\n",
    "    print(chapter + \" : \" + str(len(wordList)))\n",
    "    chapters[chapter] = len(wordList)\n",
    "\n",
    "displaySerie(pan.Series(chapters), (20, 10), \"barh\")\n"
   ]
  }
 ],
 "metadata": {
  "kernelspec": {
   "display_name": "Python 3",
   "language": "python",
   "name": "python3"
  },
  "language_info": {
   "codemirror_mode": {
    "name": "ipython",
    "version": 3
   },
   "file_extension": ".py",
   "mimetype": "text/x-python",
   "name": "python",
   "nbconvert_exporter": "python",
   "pygments_lexer": "ipython3",
   "version": "3.12.0"
  },
  "orig_nbformat": 4
 },
 "nbformat": 4,
 "nbformat_minor": 2
}
